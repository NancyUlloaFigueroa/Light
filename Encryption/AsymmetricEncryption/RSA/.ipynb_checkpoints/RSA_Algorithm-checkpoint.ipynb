{
 "cells": [
  {
   "cell_type": "markdown",
   "id": "d1b4c933",
   "metadata": {},
   "source": [
    "# RSA Algorithm: Theory and Implementation in Python"
   ]
  },
  {
   "cell_type": "markdown",
   "id": "1dae8622",
   "metadata": {},
   "source": [
    "### [ WARNING: this is an exercise purely for fun: it is definitely very insecure, do not use this code in a real system and do not attempt to write your own cryptographic functions! ]\n",
    "\n",
    "\n"
   ]
  },
  {
   "cell_type": "markdown",
   "id": "b3f993e6",
   "metadata": {},
   "source": [
    "# Pick two large prime numbers:\n",
    "\n",
    "First we need to pick two large prime numbers at random. So first, we'll get the user to type some random keys on the keyboard (this will be familiar if you've used e.g. Gnu-PG):"
   ]
  },
  {
   "cell_type": "code",
   "execution_count": 1,
   "id": "b4587b15",
   "metadata": {},
   "outputs": [
    {
     "ename": "IndentationError",
     "evalue": "unexpected indent (259581665.py, line 4)",
     "output_type": "error",
     "traceback": [
      "\u001b[1;36m  Cell \u001b[1;32mIn[1], line 4\u001b[1;36m\u001b[0m\n\u001b[1;33m    for letter in user_entropy:\u001b[0m\n\u001b[1;37m    ^\u001b[0m\n\u001b[1;31mIndentationError\u001b[0m\u001b[1;31m:\u001b[0m unexpected indent\n"
     ]
    }
   ],
   "source": [
    "user_entropy = input(\"please generate some entropy by typing lots of random characters: \")\n",
    "\n",
    "entropy = 0\n",
    " for letter in user_entropy:\n",
    "     entropy = entropy + ord(letter)"
   ]
  },
  {
   "cell_type": "markdown",
   "id": "d2ae704f",
   "metadata": {},
   "source": [
    "That turns the user input into a single number. Then we need to find the nearest prime number, with two functions:"
   ]
  },
  {
   "cell_type": "code",
   "execution_count": null,
   "id": "6d02d1db",
   "metadata": {},
   "outputs": [],
   "source": [
    "def isPrime(num):\n",
    "     for i in range(2,num):\n",
    "         if (num % i) == 0:\n",
    "             prime = False\n",
    "         else:\n",
    "             prime = True\n",
    "     return prime"
   ]
  },
  {
   "cell_type": "code",
   "execution_count": null,
   "id": "9468c849",
   "metadata": {},
   "outputs": [],
   "source": [
    "def find_nearest_prime(num):\n",
    "\n",
    "    while num < 100000:\n",
    "\n",
    "        if isPrime(num):\n",
    "\n",
    "            return num\n",
    "\n",
    "        else:\n",
    "\n",
    "            num += 1"
   ]
  },
  {
   "cell_type": "markdown",
   "id": "95fac0be",
   "metadata": {},
   "source": [
    "# Get $\\mathbf{N}$ and $\\boldsymbol{\\Phi}(\\mathbf{N})$\n",
    "\n",
    "Now we have two prime numbers, we multiply then together to get the composite number $\\mathrm{N}$ which will be the second part of the private and public keys."
   ]
  },
  {
   "cell_type": "code",
   "execution_count": null,
   "id": "bc0c8c96",
   "metadata": {},
   "outputs": [],
   "source": [
    "n = prime1*prime2"
   ]
  },
  {
   "cell_type": "markdown",
   "id": "f1f028a2",
   "metadata": {},
   "source": [
    "We also need $\\Phi(N)$ (the 'totient'):"
   ]
  },
  {
   "cell_type": "code",
   "execution_count": null,
   "id": "55ef167d",
   "metadata": {},
   "outputs": [],
   "source": [
    "phi_n = ((prime1-1)*(prime2-1))"
   ]
  },
  {
   "cell_type": "markdown",
   "id": "fa5d4884",
   "metadata": {},
   "source": [
    "# Get e (public key)\n",
    "\n",
    "Now we have to find e, the public key component. The easy bit condition is that it has to be between 1 and $\\Phi(N)$. The more tricky condition is that it has to be coprime with both $\\mathrm{N}$ and $\\Phi(N)$. Two numbers are coprime if they have no common factors other than 1 . So first thing we need is a function to find the factors of a number:"
   ]
  },
  {
   "cell_type": "code",
   "execution_count": null,
   "id": "9582a25a",
   "metadata": {},
   "outputs": [],
   "source": [
    "def get_factors(num):\n",
    "\n",
    "    factors = []\n",
    "\n",
    "    for i in range(2,num):\n",
    "\n",
    "        if ((num % i) == 0):\n",
    "\n",
    "            factors.append(i)\n",
    "\n",
    "    return factors"
   ]
  },
  {
   "cell_type": "markdown",
   "id": "32a19edb",
   "metadata": {},
   "source": [
    "Now we can write a function to check if two numbers have common factors other than 1:"
   ]
  },
  {
   "cell_type": "code",
   "execution_count": null,
   "id": "042e63fc",
   "metadata": {},
   "outputs": [],
   "source": [
    "def isCoprime(num1,num2):\n",
    "\n",
    "    num1_factors = get_factors(num1)\n",
    "\n",
    "    num2_factors = get_factors(num2)\n",
    "\n",
    "    if set(num1_factors).isdisjoint(set(num2_factors)):\n",
    "\n",
    "        # print('no common factors - they coprime!')\n",
    "\n",
    "        return True\n",
    "\n",
    "    else:\n",
    "\n",
    "        # print('there are common factors, not coprime')\n",
    "\n",
    "        return False"
   ]
  },
  {
   "cell_type": "markdown",
   "id": "b5bac905",
   "metadata": {},
   "source": [
    "Now we can write a function to find values for e that will satisfy those conditions:"
   ]
  },
  {
   "cell_type": "code",
   "execution_count": null,
   "id": "868eb287",
   "metadata": {},
   "outputs": [],
   "source": [
    "def find_e(n,phi_n):\n",
    "\n",
    "    candidates = []\n",
    "\n",
    "    for i in range(3,n):\n",
    "\n",
    "        if isPrime(i):\n",
    "\n",
    "            if((isCoprime(i,n)) and (isCoprime(i,phi_n))):\n",
    "\n",
    "                candidates.append(i)\n",
    "\n",
    "    return candidates"
   ]
  },
  {
   "cell_type": "markdown",
   "id": "5b64c139",
   "metadata": {},
   "source": [
    "This returns a list of potential values for e which we can pick."
   ]
  },
  {
   "cell_type": "markdown",
   "id": "8849ef26",
   "metadata": {},
   "source": [
    "# Get d (private key)\n",
    "\n",
    "How about the private key for decrypting messages (d)? This should be the multiplicative inverse of e; that means that when multiplied by e, it should equal 1. My notes say this is equivalent to: $e^{\\star} d=1 \\bmod N$."
   ]
  },
  {
   "cell_type": "code",
   "execution_count": null,
   "id": "a8be0039",
   "metadata": {},
   "outputs": [],
   "source": [
    "def find_d(prime1,n):\n",
    "     for i in range(prime1,n):\n",
    "         if (((i*e) % phi_n) == 1):\n",
    "             print(i)\n",
    "             return i"
   ]
  },
  {
   "cell_type": "markdown",
   "id": "de177c14",
   "metadata": {},
   "source": [
    "So that’s the basic key generation functions done. I put in some command line interactions to get this all done, and save the keypair to a text file in the working directory."
   ]
  },
  {
   "cell_type": "markdown",
   "id": "6a54c7c4",
   "metadata": {},
   "source": [
    "# Encryption and decryption\n",
    "\n",
    "With the keypairs saved as dictionaries, the encryption and decryption functions are relatively simple:"
   ]
  },
  {
   "cell_type": "code",
   "execution_count": null,
   "id": "49c5f586",
   "metadata": {},
   "outputs": [],
   "source": [
    "def encrypt(pt):\n",
    "     return (pt ** public_key['e']) % public_key['n']"
   ]
  },
  {
   "cell_type": "code",
   "execution_count": null,
   "id": "a26079d5",
   "metadata": {},
   "outputs": [],
   "source": [
    "def decrypt(ct):\n",
    "     return (ct ** private_key['d'] % public_key['n'])"
   ]
  },
  {
   "cell_type": "markdown",
   "id": "1f24eddd",
   "metadata": {},
   "source": [
    "At the moment, this only works to encrypt integers rather than text strings. There are various ways we could handle encoding text to integers."
   ]
  },
  {
   "cell_type": "markdown",
   "id": "792161eb",
   "metadata": {},
   "source": [
    "# Functional ... just!\n",
    "\n",
    "So there we go. A few minutes was just enough to put together a minimally functional RSA cryptosystem.\n",
    "\n",
    "The main issue is that even for pairs of small prime numbers, it takes a while to find $\\mathrm{e}$. Keysizes in the $10-20$ 's range are pretty quick to compute, but NIST recommends asymmetric keys should be at least 2048-bits. Trying to generate a key this big means leaving the script running for a long, long time.\n",
    "\n",
    "There are loads of ways the code could be improved."
   ]
  },
  {
   "cell_type": "markdown",
   "id": "05212736",
   "metadata": {},
   "source": [
    "# Summary\n",
    "\n",
    "The algorithm for RSA is as follows:\n",
    "\n",
    " 1. Select 2 prime numbers, preferably large, $\\mathrm{p}$ and $\\mathrm{q}$.\n",
    " 2. Calculate $n=p^* q$.\n",
    " 3. Calculate phi(n) $=(p-1)^{\\star}(q-1)$\n",
    " 4. Choose a value of e such that $1<e<$ phi(n) and $\\operatorname{gcd}(\\operatorname{phi}(\\mathrm{n}), \\mathrm{e})=1$.\n",
    " 5. Calculate $d$ such that $d=\\left(e^{\\wedge}-1\\right)$ mod phi(n).\n",
    "\n",
    "Here the public key is $\\{e, n\\}$ and private key is $\\{d, n\\}$. If $M$ is the plain text then the cipher text $\\mathrm{C}=\\left(\\mathrm{M}^{\\wedge} \\mathrm{e}\\right)$ mod $\\mathrm{n}$. This is how data is encrypted in RSA algorithm. Similarly, for decryption, the plain text $M=\\left(C^{\\wedge} d\\right)$ mod $n$.\n",
    "\n",
    "Example: Let $\\mathrm{p}=3$ and $\\mathrm{q}=11$ (both are prime numbers).\n",
    " - Now, $n=p^* q=3^* 11=33$\n",
    " - $\\operatorname{phi}(\\mathrm{n})=(\\mathrm{p}-1)^{\\star}(\\mathrm{q}-1)=(3-1)^{\\star}(11-1)=2^{\\star} 10=20$\n",
    " - Value of e can be 7 since $1<7<20$ and $\\operatorname{gcd}(20,7)=1$.\n",
    " - Calculating $\\mathrm{d}=\\left(7^{\\wedge}-1\\right) \\bmod 20=3$.\n",
    " - Therefore, public key $=\\{7,33\\}$ and private key $=\\{3,33\\}$.\n",
    " \n",
    "Suppose our message is $\\mathrm{M}=31$. You can encrypt and decrypt it using the RSA algorithm as follows:\n",
    "\n",
    "__Encryption:__ $\\mathrm{C}=\\left(\\mathrm{M}^{\\wedge} \\mathrm{e}\\right) \\bmod \\mathrm{n}=31^{\\wedge} 7 \\bmod 33=4$\n",
    "\n",
    "__Decryption:__ $M=\\left(C^{\\wedge} d\\right) \\bmod n=4^{\\wedge} 3 \\bmod 33=31$\n",
    "\n",
    "Since we got the original message that is plain text back after decryption, we can say that the algorithm worked correctly.\n",
    "\n",
    "Below is the Python code for the implementation of the RSA Algorithm:"
   ]
  },
  {
   "cell_type": "code",
   "execution_count": null,
   "id": "ec93447c",
   "metadata": {},
   "outputs": [],
   "source": [
    "import math\n",
    " \n",
    "# step 1\n",
    "p = 3\n",
    "q = 7\n",
    " \n",
    "# step 2\n",
    "n = p*q\n",
    "print(\"n =\", n)\n",
    " \n",
    "# step 3\n",
    "phi = (p-1)*(q-1)\n",
    " \n",
    "# step 4\n",
    "e = 2\n",
    "while(e<phi):\n",
    "    if (math.gcd(e, phi) == 1):\n",
    "        break\n",
    "    else:\n",
    "        e += 1\n",
    " \n",
    "print(\"e =\", e)\n",
    "# step 5\n",
    "k = 2\n",
    "d = ((k*phi)+1)/e\n",
    "print(\"d =\", d)\n",
    "print(f'Public key: {e, n}')\n",
    "print(f'Private key: {d, n}')\n",
    " \n",
    "# plain text\n",
    "msg = 11\n",
    "print(f'Original message:{msg}')\n",
    " \n",
    "# encryption\n",
    "C = pow(msg, e)\n",
    "C = math.fmod(C, n)\n",
    "print(f'Encrypted message: {C}')\n",
    " \n",
    "# decryption\n",
    "M = pow(C, d)\n",
    "M = math.fmod(M, n)\n",
    " \n",
    "print(f'Decrypted message: {M}')  "
   ]
  },
  {
   "cell_type": "markdown",
   "id": "dba6a334",
   "metadata": {},
   "source": [
    "Being able to do both encryption and digital signatures is one of the RSA algorithm’s key benefits. To confirm that the message has not been tampered with, digital signatures are made by encrypting a message hash with the sender’s private key. This encryption may then be validated by anybody with access to the sender’s public key."
   ]
  }
 ],
 "metadata": {
  "kernelspec": {
   "display_name": "Python 3 (ipykernel)",
   "language": "python",
   "name": "python3"
  },
  "language_info": {
   "codemirror_mode": {
    "name": "ipython",
    "version": 3
   },
   "file_extension": ".py",
   "mimetype": "text/x-python",
   "name": "python",
   "nbconvert_exporter": "python",
   "pygments_lexer": "ipython3",
   "version": "3.11.5"
  }
 },
 "nbformat": 4,
 "nbformat_minor": 5
}
