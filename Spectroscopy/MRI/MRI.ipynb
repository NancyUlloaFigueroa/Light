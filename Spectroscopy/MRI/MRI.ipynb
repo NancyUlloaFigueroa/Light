{
 "cells": [
  {
   "cell_type": "markdown",
   "id": "54bfd0f7",
   "metadata": {},
   "source": [
    "# Theory of the Gradient Measurement: Relaxation of Nuclear Spins under Inhomogeneity Magnetic Field\n",
    "\n",
    "It is well known that the inhomogeneity of the magnetic field can cause the relaxation of hyper-polarized nuclear spins. Both the longitudinal relaxation rate $1 / T_1$ and the transverse relaxation rate $1 / T_2$ may be affected by the magnetic field gradients. The magnetic field inhomogeneity-induced relaxation is related to the buffer gas pressure of the vapor cell. Typically, two conditions are considered as we study the relaxation, namely high buffer gas pressure and low buffer gas pressure. This pressure could affect the diffusion time of nuclear spins in the vapor cell. Under low pressures, the nuclear spins could move quickly in the vapor cell, and there is a characteristic diffusion time $\\tau_d$ to account for this process. In a spherical vapor cell with a radius of $R$, this time is approximately $R^2 / 4 D$. $D$ is the diffusion coefficient of nuclear spins in the buffer gas. Under the low-pressure limit, the diffusion time of nuclear spins should be much smaller than the nuclear spin precession period. The nuclear spins should experience many times of moving to the vapor cell wall in one precession period. We define the precession time $\\tau_l$ to be $2 \\pi / \\gamma B_0 . B_0$ is the average magnetic field in the volume of the vapor cell. Under the low-pressure limit, $\\tau_d$ should be much smaller than $\\tau_l$. Thus, it is easy to understand the high-pressure limit in which $\\tau_d$ should be much larger than $\\tau_l$.\n",
    "\n",
    "In this study, our main focus is on the transverse relaxation of nuclear spins. The holding magnetic field, under which we measure the transverse relaxation of the ${ }^{131} \\mathrm{X}$ e nuclear spin, is around $500 \\mathrm{nT}$. Based on the nuclear spin's gyro-magnetic ratio $\\gamma$, the precession period in our experiment is around $0.5 \\mathrm{~s}$. The vapor cell is filled with $85 \\mathrm{KPa}$ of nitrogen gas. Using the diffusion coefficient of $X e$ in $N_2$ under 760 Torr $N_2$ at $455 \\mathrm{~K}\\left(D_0\\left(X e-N_2\\right)=0.21 \\mathrm{~cm}^2 / \\mathrm{s}\\right.$, we estimate the diffusion time to be around $0.08 \\mathrm{~s}$. Note that the diffusion constant is weakly temperature dependent. The measuring temperature for the gradients is around $393 \\mathrm{~K}$. The diffusion constant could be considered to be similar to that of the $455 \\mathrm{~K}$ condition. Therefore, our experiment is under the low-pressure limit.\n",
    "\n",
    "There are several references that discuss the theory of the magnetic field gradient-induced relaxation of nuclear spins. We will not repeat the detailed theory here. Under low pressures, the transverse relaxation rate can be expressed as:\n",
    "\n",
    "$$\n",
    "\\frac{1}{T_2}=\\frac{4 R^4}{175 D}\\left(\\left|\\vec{\\nabla} \\Omega_{l x}\\right|^2+\\left|\\vec{\\nabla} \\Omega_{l y}\\right|^2+2\\left|\\vec{\\nabla} \\Omega_{I z}\\right|^2\\right)\n",
    "$$\n",
    "\n",
    "$\\Omega_I$ represents the angular precession frequency of the nuclear spins under the influence of the inhomogeneous magnetic field. We define the average magnetic field across the entire vapor cell as $B_0$, which is aligned in the $z$ direction. The actual magnetic field $\\vec{B}(\\vec{r})$ is position-dependent, and the inhomogeneous magnetic field is given by $\\overrightarrow{B_I}=\\vec{B}(\\vec{r})-B_0 \\vec{z}$. The Larmor precession induced by the inhomogeneous magnetic field is given by $\\overrightarrow{\\Omega_I}=\\gamma \\overrightarrow{B_I}$. The gradient of $\\Omega_{I x}$ with respect to $x$ is denoted by $\\vec{\\nabla} \\Omega_{I x}=\\left(\\partial \\Omega_{I x} / \\partial x, \\partial \\Omega_{I x} / \\partial y, \\partial \\Omega_{I x} / \\partial z\\right)$. Note that in our experiment, the vapor cell is cylindrical with a diameter that is approximately equal to its length, so it is reasonable to assume that the vapor cell resembles a sphere."
   ]
  },
  {
   "cell_type": "markdown",
   "id": "4e335035",
   "metadata": {},
   "source": [
    "# In Situ Study of the Magnetic Field Gradient Produced by a Miniature Bi-Planar Coil for Chip-Scale Atomic Devices \n",
    "\n",
    "The miniaturization of quantum sensors is a popular trend for the development of quantum technology. One of the key components of these sensors is a coil which is used for spin modulation and manipulation. The bi-planar coils have the advantage of producing three-dimensional magnetic fields with only two planes of current confinement, whereas the traditional Helmholtz coils require three-dimensional current distribution. Thus, the bi-planar coils are compatible with the current micro-fabrication process and are quite suitable for the compact design of the chip-scale atomic devices that require stable or modulated magnetic fields. These notes presents a design of a miniature bi-planar coil. Both the magnetic fields produced by the coils and their inhomogeneities were designed theoretically. The magnetic field gradient is a crucial parameter for the coils, especially for generating magnetic fields in very small areas. We used a NMR (Nuclear Magnetic Resonance) method based on the relaxation of $ \\mathrm{Xe}$ nuclear spins to measure the magnetic field gradient in situ. The field inhomogeneities of the field of such small bi-planar coils have been measured. The results indicate that the designed gradient caused error is 0.08 for the $B_y$ and the $B_x$ coils, and the measured gradient caused error using the nuclear spin relaxation method is $0.09 \\pm 0.02$, suggesting that proposed method is suitable for measuring gradients. Due to the poor sensitivity of our magnetometer under a large $B_z$ bias field, we could not measure the $B_z$ magnetic field gradient. Our method also helps to improve the gradients of the miniature bi-planar coil design, which is critical for chip-scale atomic devices."
   ]
  },
  {
   "cell_type": "markdown",
   "id": "79cdffd4",
   "metadata": {},
   "source": [
    "# Coil Design\n",
    "\n",
    "We aim to produce a constant magnetic field in the $x, y$, and $z$ directions. A bi-planar coil can produce a threedimensional magnetic field and confine the current of the coil to just two planes. There are three sets of double-plane coils, two in each set, facing each other to generate a magnetic field in one direction at their central position. Similarly, the other two sets of coils are placed in the same way, and all three sets of coils are located in two opposite planes. This creates a three-dimensional magnetic field at the center. Therefore, compared with the three-dimensional structure of the Helmholtz coil, it can greatly reduce the size of the sensor head.\n",
    "\n",
    "In our experiment, the vapor cell is a cylinder with an inner diameter of $5 \\mathrm{~mm}$ and a length of $4 \\mathrm{~mm}$. Therefore, we need to produce a uniform magnetic field in this small area that is as flat as possible. A bi-planar coil needs to be confined to two planes, so it is convenient to choose the center point between the two planes in which the vapor cell should be placed.\n",
    "\n",
    "To design the coil, we first need to select a target region. We chose the target area to be $4 \\mathrm{~mm} \\times 4 \\mathrm{~mm} \\times 4 \\mathrm{~mm}$, which is approximately the same as the volume of the vapor cell. The length of the bi-planar coil was designed to be $16 \\mathrm{~mm}$. The basic idea behind the bi-planar coil design is to first determine the desired magnetic field in the target area. In this study, a uniform magnetic field is desired. The current distribution on the plane is obtained through several steps of inverse calculation. We will not go into detail about this calculation process but rather provide the results of the coil design.\n",
    "\n",
    "The bi-planar coil is traditionally used for Magnetic Resonance Imaging (MRI) coil design. The bi-planar coil is also used for residual magnetic field compensation in a magnetic field shielding room.\n",
    "\n",
    "Figure 1 and Figure 2 display the design of the bi-planar coils for $B_x, B_y$, and $B_z$. The red and blue lines represent different directions of current flow. The $B_x$ and $B_y$ coils share the same design drawing. The magnetic field strengths in the target regions are $10 \\mathrm{nT}$, and the calculated coil constants for the coils are $42 \\mathrm{nT} / \\mathrm{mA}, 42 \\mathrm{nT} / \\mathrm{mA}$, and $476 \\mathrm{nT} / \\mathrm{mA}$, respectively.\n",
    "\n",
    "\n",
    "<br><br/>\n",
    "<p align=\"center\"><img src=\"MRI___[images]/g001.webp\" style=\"width:70%\"></p>\n",
    "<center> Fig. 1$\\quad$ The figure shows the design of the bi-planar coil for the $x$ and $y$ directions, where the red and blue lines represent different directions of current flow. </center>\n",
    "<br><br/>\n",
    "\n",
    "\n",
    "<br><br/>\n",
    "<p align=\"center\"><img src=\"MRI___[images]/g002.webp\" style=\"width:70%\"></p>\n",
    "<center> Fig. 2$\\quad$ The figure displays the design of the bi-planar coil for the $z$ direction, where the red lines represent the same direction of current flow. </center>\n",
    "<br><br/> "
   ]
  },
  {
   "cell_type": "markdown",
   "id": "a8232b98",
   "metadata": {},
   "source": [
    "# Coil Fabrication\n",
    "\n",
    "We designed and fabricated a flexible PCB for the bi-planar coil. Since the coils in the Matlab R2020a are independent rings, we needed to use several wires to connect all the rings in series to form a pathway in the actual processing. Additionally, PCB wiring cannot be crossed, so we needed to design a multi-layer board structure. This means that there is a difference between the actual wiring diagram and the theoretical one. We completed the PCB wiring with a two-layer board structure. Each coil had four pairs of current inlet and outlet, and during installation, only the respective four pairs of ports needed to be connected in series. The two coils in each direction were powered by a signal generator, and a total of three signal generators were able to make the bi-planar coil work normally. It is worth noting that the wire width is only $2 \\mathrm{mil}$, so the side length of the coil is only $16 \\mathrm{~mm}$, which is much smaller than that of traditional Lee-Whiting and $\\cos \\theta$ coils. We used a flexible circuit board (FPC) to fabricate the bi-planar coil because its advantages of being small in size and lightweight make it more suitable for miniaturization.\n",
    "\n",
    "Figure 3 shows the PCB drawing of the bi-planar coil. A uniform magnetic field is designed to be generated at the center of the coil. What is more, there are lines which did not form the theoretical part of the coil and were needed for the current connection. We tried to make the current in these lines parallel and opposite so that the disturbing magnetic fields generated by them can cancel each other. Moreover, there are several soldering ports in the coil design which could also contribute to field distortion. These ports are designed to flow currents in the opposite direction in the adjacent ports. Note that these ports are also far away from the main body of the coils. Therefore, we believe that the influence of the currents generated by the inlet and outlet ports can be ignored.\n",
    "\n",
    "<br><br/>\n",
    "<p align=\"center\"><img src=\"MRI___[images]/g003.webp\" style=\"width:75%\"></p>\n",
    "<center> Fig. 3$\\quad$ PCB coil design. </center>\n",
    "<br><br/> "
   ]
  },
  {
   "cell_type": "markdown",
   "id": "7e505772",
   "metadata": {},
   "source": [
    "# Experimental Setup\n",
    "\n",
    "## The Measurement Platform\n",
    "\n",
    "The homemade vapor cell used in this research is cylindrical in shape. A small amount of Cs metal is filled in the vapor cell. Additionally, we filled the vapor cell with $750 \\mathrm{~Pa}{ }^{131} \\mathrm{Xe}$ for measuring the bi-planar coil parameters. We utilized a $3 \\mathrm{~W}, 1550 \\mathrm{~nm}$ heating laser for heating the vapor cell to the desired temperature as the optical depth was approximately 1.5. The heating laser was transferred through a $400 \\mu \\mathrm{m}$ core fiber. We used PEEK thermal insulation, and the structure was manufactured through 3D printing.\n",
    "\n",
    "The $894 \\mathrm{~nm}$ pumping laser was coupled to a polarization-maintaining fiber through a fiber coupling port. The pumping laser light was collimated by lens 1 . The $\\lambda / 4$ waveplate after lens 1 changed the linearly polarized light into circularly polarized light. PD2 received the pumping laser light, which passed through the vapor cell. The pumping laser light polarization was purified by the GT prism before going to the fiber coupling port. The combination of the $\\lambda / 2$ waveplate and PBS was able to sample a small part of the pumping laser, which was detected by PD1. To balance the optical power hitting the detectors, we used an NDF to adjust the power of the sampling laser. We used the sampling laser to balance the background offset of the pumping laser after the vapor cell. Specifically, the sampling laser was detected before the fiber by PBS and $\\lambda / 2$, and the light detected on PD1 was subtracted from PD2 to eliminate background offset. To eliminate the polarization drifts, we need to align the polarization direction of the pump laser with the direction of the slow axis or fast axis of the PM.\n",
    "\n",
    "We used a homemade differential circuit to subtract the background offset in PD2. Several layers of magnetic field shields were used to shield the outside magnetic field. A $\\cos \\theta$ coil with determined coil constants was used to calibrate the bi-planar coil. The bi-planar coils were wrapped around the vapor cell with a distance of $15 \\mathrm{~mm}$ between them. The three sets of bi-planar coils were able to produce magnetic fields in three directions. The pumping laser direction was along the $y$ axis. We did not need to move the cell for each position as we measured the coil constants or the gradients. During the measurement, the vapor cell was always located at the center of the coil and was $7.5 \\mathrm{~mm}$ away from the coil on both sides. This is why we think that our method can be in situ. Moreover, it is impossible to move a tiny magnetometer in such a small area.\n",
    "\n",
    "<br><br/>\n",
    "<p align=\"center\"><img src=\"MRI___[images]/g004.png\" style=\"width:75%\"></p>\n",
    "<center> Fig. 4$\\quad$ The experimental setup for testing the bi-planar coil. PD: photo diode, NDF: neutral density filter, PBS: polarization beam splitter, GT: Glan-Taylor prism, PEEK: polyether ether ketone, PM: polarization maintaining. The bi-planar coils are set in the $x y$ plane. The two planes of the bi-planar coils are in parallel. The three pair bi-planar coils can produce three dimension magnetic fields. The $\\cos (\\theta)$ coils are in a cylinder shape. The cylinder axial direction is the same as the heating laser beam direction. The $\\cos (\\theta)$ coils are arranged in such a way that they can produce $z$ and $y$ direction homogeneous magnetic fields. The cylinder also configures a Lee-Whiting coil, which could produce an $x$ direction homogeneous magnetic field. </center>\n",
    "<br><br/> "
   ]
  },
  {
   "cell_type": "markdown",
   "id": "b68d2a27",
   "metadata": {},
   "source": [
    "# MATLAB design tools\n",
    "\n",
    "\n",
    "[Introduction to Passive Planar Spiral Inductors](https://www.mathworks.com/help/rfpcb/ug/introduction-to-passive-planar-spiral-inductors.html) \n",
    "\n",
    "[Create spiral inductor in four different shapes - MATLAB](https://www.mathworks.com/help/rfpcb/ref/spiralinductor.html)\n",
    "\n",
    "[Surrogate Based Optimization of a Planar Spiral Inductor](https://www.mathworks.com/help/rfpcb/ug/surrogate-based-optimization-of-a-planar-spiral-inductor.html)"
   ]
  }
 ],
 "metadata": {
  "kernelspec": {
   "display_name": "Python 3 (ipykernel)",
   "language": "python",
   "name": "python3"
  },
  "language_info": {
   "codemirror_mode": {
    "name": "ipython",
    "version": 3
   },
   "file_extension": ".py",
   "mimetype": "text/x-python",
   "name": "python",
   "nbconvert_exporter": "python",
   "pygments_lexer": "ipython3",
   "version": "3.11.5"
  }
 },
 "nbformat": 4,
 "nbformat_minor": 5
}
