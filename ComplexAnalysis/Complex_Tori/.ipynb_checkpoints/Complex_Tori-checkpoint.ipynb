{
 "cells": [
  {
   "cell_type": "markdown",
   "id": "27ba5767",
   "metadata": {},
   "source": [
    "# Complex Tori\n",
    "\n",
    "<br><br/> \n",
    "<img align=\"Right\" src=\"Complex_Tori___[images]/Inside-out_torus_(animated,_small).gif\" style=\"width:13%\">\n",
    "<br><br/> "
   ]
  },
  {
   "cell_type": "markdown",
   "id": "6b1b7ce7",
   "metadata": {},
   "source": [
    "This writeup gives a quick sketch of results about complex tori, also known as complex elliptic curves for reasons to be explained in another writeup.\n",
    "\n",
    "### 1. Definition\n",
    "\n",
    "A lattice in $\\mathbb{C}$ is a set $\\Lambda=\\omega_1 \\mathbb{Z} \\oplus \\omega_2 \\mathbb{Z}$ with $\\left\\{\\omega_1, \\omega_2\\right\\}$ a basis for $\\mathbb{C}$ over $\\mathbb{R}$. We make the normalizing convention $\\omega_1 / \\omega_2 \\in \\mathcal{H}$, but this still does not specify a basis given a lattice. Instead,\n",
    "Lemma 1.1. Consider two lattices $\\Lambda=\\omega_1 \\mathbb{Z} \\oplus \\omega_2 \\mathbb{Z}$ and $\\Lambda^{\\prime}=\\omega_1^{\\prime} \\mathbb{Z} \\oplus \\omega_2^{\\prime} \\mathbb{Z}$ with $\\omega_1 / \\omega_2 \\in \\mathcal{H}$ and $\\omega_1^{\\prime} / \\omega_2^{\\prime} \\in \\mathcal{H}$. Then $\\Lambda^{\\prime}=\\Lambda$ if and only if\n",
    "\n",
    "$$\n",
    "\\left[\\begin{array}{l}\n",
    "\\omega_1^{\\prime} \\\\\n",
    "\\omega_2^{\\prime}\n",
    "\\end{array}\\right]=\\left[\\begin{array}{ll}\n",
    "a & b \\\\\n",
    "c & d\n",
    "\\end{array}\\right]\\left[\\begin{array}{l}\n",
    "\\omega_1 \\\\\n",
    "\\omega_2\n",
    "\\end{array}\\right] \\text { for some }\\left[\\begin{array}{ll}\n",
    "a & b \\\\\n",
    "c & d\n",
    "\\end{array}\\right] \\in \\mathrm{SL}_2(\\mathbb{Z}) .\n",
    "$$\n",
    "\n",
    "Proof. Exercise.\n",
    "\n",
    "A complex torus is a quotient of the complex plane by a lattice,\n",
    "\n",
    "$$\n",
    "\\mathbb{C} / \\Lambda=\\{z+\\Lambda: z \\in \\mathbb{C}\\} .\n",
    "$$\n",
    "\n",
    "\n",
    "<br><br/>\n",
    "<img align=\"right\" src=\"Complex_Tori___[images]/480px-Projection_color_torus.png\" style=\"width:35%\">\n",
    "<right> Fig. $\\quad$ XXX-XXX. </right>\n",
    "<br><br/>\n",
    "\n",
    "Algebraically a complex torus is an Abelian group under the addition it inherits from $\\mathbb{C}$. Geometrically a complex torus is a parallelogram spanned by $\\left\\{\\omega_1, \\omega_2\\right\\}$ with its sides identified in opposing pairs. \n",
    "\n",
    "\n",
    "<br><br/>\n",
    "<img align=\"right\" src=\"Complex_Tori___[images]/Torus_from_rectangle.gif\" style=\"width:25%\">\n",
    "<right> Fig. $\\quad$ XXX-XXX. </right>\n",
    "<br><br/> \n",
    "\n",
    "Identifying one pair of sides rolls the parallelogram into a tube, and then identifying the other pair bends the tube into a torus.\n",
    "\n",
    "<br><br/>\n",
    "<img align=\"left\" src=\"Complex_Tori___[images]/Spiral_Screw_Bisection_of_a_Torus.png\" style=\"width:25%\" >\n",
    "<left> Fig. $\\quad$ XXX-XXX. </left>\n",
    "<br><br/>\n",
    "\n",
    "But the flat model of the complex torus with neighborhoods extending across the sides better illustrates that every complex torus is a Riemann surface, roughly meaning a connected set that looks like the complex plane $\\mathbb{C}$ in the small.\n",
    "\n",
    "\n",
    " "
   ]
  },
  {
   "cell_type": "code",
   "execution_count": null,
   "id": "c6632d80",
   "metadata": {},
   "outputs": [],
   "source": []
  }
 ],
 "metadata": {
  "kernelspec": {
   "display_name": "Python 3 (ipykernel)",
   "language": "python",
   "name": "python3"
  },
  "language_info": {
   "codemirror_mode": {
    "name": "ipython",
    "version": 3
   },
   "file_extension": ".py",
   "mimetype": "text/x-python",
   "name": "python",
   "nbconvert_exporter": "python",
   "pygments_lexer": "ipython3",
   "version": "3.11.5"
  }
 },
 "nbformat": 4,
 "nbformat_minor": 5
}
