{
 "cells": [
  {
   "cell_type": "markdown",
   "id": "a594da38",
   "metadata": {},
   "source": [
    "# Some Extensions of Complex Methods for 2D Fields\n",
    "### [Atomic Energy]\n",
    "\n"
   ]
  },
  {
   "cell_type": "markdown",
   "id": "92fca465",
   "metadata": {},
   "source": [
    "Introduction\n",
    "The advent of practical superconducting magnets has given renewed interest to general methods of analysis for two-dimensional fields, especially in connection with beam handing and accelerator applications.\n",
    "\n",
    "Complex variable methods have long been used to set up potential functions that satisfy Laplace's equation in two dimensions. Maxwell already devoted a chapter to this subject. The transformations developed independently by Schwarz and Christoffel add a powerful tool.\n",
    "\n",
    "The complex methods sumarized in this notes are based directly on the Cauchy-Riemann equations rather than on the Laplace's equations that can be derived from them. This approach tends to deal primarily with flelds rather than potentials. It permits us, for example, to set up a general integral formula for the field inside as well as outside a conductor with uniform current density. More generally, it helps to elucidate the far-reaching structural identity between analytic functions and static two-dimensional magnetic or electric fields.\n",
    "\n",
    "Currents and the forces on them appear as residues of analytic functions.\n",
    "\n",
    "A formula can be given for the discontinuity in complex field across an arbitrary cylindrical current sheet. Based on this \"current sheet theorem\" it has been possible, for example, to specify the current distribution on a circular or elliptic cylinder to produce any required field within the cylinder and even to specify a second outer cylinder which will simultaneously cancel all external field.\n",
    "\n",
    "Any two-dimensional field configuration can be transformed into a plane whose coordinates are vector and scalar potentials and in which areas are proportional to field energy.\n",
    "\n",
    "Complex methods such as those under discussion obtain added practical value from the fact that large computers can deal with complex variables directly so that prior separation into real and imaginary parts is not necessary.\n",
    "\n",
    "<br><br/>\n",
    "\n",
    "-------------------------------\n",
    "- J.C. Maxwell, \"Electricity and Magnetism,\" Vol. I, Chapter XII, 2nd Ed., Clarendon Press, Oxford, 1881.\n",
    "- E. Weber, \"Electromagnetic Fields,\" Vol. I, p, 325, John Wiley, New York, 1950."
   ]
  },
  {
   "cell_type": "code",
   "execution_count": null,
   "id": "da9a3a6d",
   "metadata": {},
   "outputs": [],
   "source": []
  }
 ],
 "metadata": {
  "kernelspec": {
   "display_name": "Python 3 (ipykernel)",
   "language": "python",
   "name": "python3"
  },
  "language_info": {
   "codemirror_mode": {
    "name": "ipython",
    "version": 3
   },
   "file_extension": ".py",
   "mimetype": "text/x-python",
   "name": "python",
   "nbconvert_exporter": "python",
   "pygments_lexer": "ipython3",
   "version": "3.11.5"
  }
 },
 "nbformat": 4,
 "nbformat_minor": 5
}
