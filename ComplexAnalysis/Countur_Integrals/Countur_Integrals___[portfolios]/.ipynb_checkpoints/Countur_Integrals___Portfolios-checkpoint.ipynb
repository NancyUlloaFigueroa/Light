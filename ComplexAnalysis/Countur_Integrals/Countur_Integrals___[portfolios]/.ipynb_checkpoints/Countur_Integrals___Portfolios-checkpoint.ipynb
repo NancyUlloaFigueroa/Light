{
 "cells": [
  {
   "cell_type": "markdown",
   "id": "7999bfdb",
   "metadata": {},
   "source": [
    "# Countur Integrals Portfolios"
   ]
  },
  {
   "cell_type": "markdown",
   "id": "4901ef58",
   "metadata": {},
   "source": [
    "## Exersice.\n",
    " \n",
    "> Suppose that $A=(0,0), B=(1,1),$ and that $h(x, y)=x y$. Calculi the contour integral along the curve $\\mathrm{C}_{1}$. Repeat the calculi along the curve $\\mathrm{C}_{2}$\n",
    ">\n",
    ">  \n",
    ">  \n",
    "> <br><br/>\n",
    "> <p align=\"center\"><img src=\"../Countur_Integrals___[images]/different_line_integral_paths.png\" style=\"width:50%\"></p>\n",
    "> <center> Fig. $\\quad$ Two different line integral paths. </center>\n",
    "> <br><br/>\n",
    "> \n",
    "\n",
    "## Answer.\n",
    "> To start, let's suppose that $\\mathrm{C}=\\mathrm{C}_{1}$ is the broken path shown in Fig. The first part is along the $\\mathrm{x}$-axis from $\\mathrm{x}=0$ to $\\mathrm{x}=1$, and then the second part is straight-up from $\\mathrm{x}=1(\\mathrm{y}=0)$ to $\\mathrm{x}=1$ $(y=1)$. So, but for this path $y=0$ along the $x$-axis and so $h(x, y)=0)$, and $\\mathrm{x}=1$ on the vertical portion of $\\mathrm{C}_{1}$ [and so $\\mathrm{h}(\\mathrm{x}, \\mathrm{y})=\\mathrm{y}$]. Thus, the two line integrals on this path are:\n",
    ">\n",
    ">$$\n",
    "\\mathrm{I}_{\\mathrm{x}}=\\int_{\\mathrm{C}_{1}} \\mathrm{h}(\\mathrm{x}, \\mathrm{y}) \\mathrm{d} \\mathrm{x}=\\int_{0}^{1} 0 \\mathrm{d} \\mathrm{x}+\\int_{1}^{1} \\mathrm{y} \\mathrm{d} \\mathrm{x}=0+0=0\n",
    "$$\n",
    ">  \n",
    "> and\n",
    ">  \n",
    ">$$\n",
    "\\mathrm{I}_{\\mathrm{y}}=\\int_{\\mathrm{C}_{1}} \\mathrm{h}(\\mathrm{x}, \\mathrm{y}) \\mathrm{d} \\mathrm{y}=\\int_{0}^{0} 0 \\mathrm{d} \\mathrm{y}+\\int_{0}^{1} \\mathrm{ydy}=\\left.\\left(\\frac{1}{2} \\mathrm{y}^{2}\\right)\\right|_{0} ^{1}=\\frac{1}{2}\n",
    "$$\n",
    "> \n",
    "\n",
    "> Along the path $\\mathrm{C}_{2},$ on the other hand, having $\\mathrm{y}=\\mathrm{x}$ from $\\mathrm{A}$ to $\\mathrm{B},$ and $\\mathrm{so}$ $h(x, y)=x^{2}$ [or, equivalently,  $y^{2}$]. So, on this path the line integrals are\n",
    ">  \n",
    ">$$\n",
    "\\mathrm{I}_{\\mathrm{x}}=\\int_{\\mathrm{C}_{2}} \\mathrm{h}(\\mathrm{x}, \\mathrm{y}) \\mathrm{d} \\mathrm{x}=\\int_{0}^{1} \\mathrm{x}^{2} \\mathrm{dx}=\\left.\\left(\\frac{1}{3} \\mathrm{x}^{3}\\right)\\right|_{0} ^{1}=\\frac{1}{3}\n",
    "$$\n",
    ">  \n",
    "> and\n",
    ">  \n",
    ">$$\n",
    "\\mathrm{I}_{\\mathrm{y}}=\\int_{\\mathrm{C}_{2}} \\mathrm{h}(\\mathrm{x}, \\mathrm{y}) \\mathrm{d} \\mathrm{y}=\\int_{0}^{1} \\mathrm{y}^{2} \\mathrm{d} \\mathrm{y}=\\left.\\left(\\frac{1}{3} \\mathrm{y}^{3}\\right)\\right|_{0} ^{1}=\\frac{1}{3}\n",
    "$$\n",
    "> \n",
    "> Clearly, the values of the $I_{x}, I_{y}$ line integrals are path-dependent and, for a given path, the $I_{x}, I_{y}$ line integrals may or may not be equal. It can combined the $I_{x}$ and $I_{y}$ line integrals to write the line integral along $\\mathrm{C}$ as $\\mathrm{I}_{\\mathrm{C}}=\\mathrm{I}_{\\mathrm{x}}+i \\mathrm{I}_{\\mathrm{y}},$ and so $\\mathrm{I}_{\\mathrm{C}_{1}}=i_{2}^{\\mathrm{l}}$ while\n",
    "> \n",
    ">$$\n",
    "\\mathrm{I}_{\\mathrm{C}_{2}}=\\frac{1}{3}+i \\frac{1}{3}\n",
    "$$\n",
    "> \n",
    "\n",
    "> Notice that in Fig. it could be written the unbroken line segment $\\mathrm{AB}$ as $\\mathrm{z}=\\mathrm{x}+$ iy or, as $\\mathrm{y}=\\mathrm{x}, \\mathrm{z}=\\mathrm{x}+i \\mathrm{x}=\\mathrm{x}(1+i)$ and so\n",
    "$\\mathrm{dz}=(1+i) \\mathrm{dx}$. Then, as $\\mathrm{h}(\\mathrm{x}, \\mathrm{y})=\\mathrm{h}(\\mathrm{x}, \\mathrm{x})=\\mathrm{x}^{2},$ it gets\n",
    ">\n",
    ">$$\n",
    "\\mathrm{I}_{\\mathrm{C}_{2}}=\\int_{0}^{1} \\mathrm{x}^{2}(1+i) \\mathrm{d} \\mathrm{x}=\\left.(1+i)\\left(\\frac{1}{3} \\mathrm{x}^{3}\\right)\\right|_{0} ^{1}=\\frac{1}{3}+i \\frac{1}{3}\n",
    "$$\n",
    ">  \n",
    "> which is just as it has been calculated before."
   ]
  }
 ],
 "metadata": {
  "kernelspec": {
   "display_name": "Python 3 (ipykernel)",
   "language": "python",
   "name": "python3"
  },
  "language_info": {
   "codemirror_mode": {
    "name": "ipython",
    "version": 3
   },
   "file_extension": ".py",
   "mimetype": "text/x-python",
   "name": "python",
   "nbconvert_exporter": "python",
   "pygments_lexer": "ipython3",
   "version": "3.11.5"
  }
 },
 "nbformat": 4,
 "nbformat_minor": 5
}
