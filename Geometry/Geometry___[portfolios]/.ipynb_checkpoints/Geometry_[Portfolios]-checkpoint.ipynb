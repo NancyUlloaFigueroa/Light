{
 "cells": [
  {
   "cell_type": "markdown",
   "id": "d3db7573",
   "metadata": {},
   "source": [
    "# Examples of numerical and graphical study of fields represented in normal toroidal coordinates"
   ]
  },
  {
   "cell_type": "markdown",
   "id": "fea6a13c",
   "metadata": {},
   "source": [
    "## Example. \n",
    "Calculate the derivative of the scalar field\n",
    "\n",
    "$$\n",
    "F=h \\sin u \\cos n t-v,\n",
    "$$ [Eq. 0]\n",
    "\n",
    "represented in normal toroidal coordinates (1), at $h=0.75, n=6, R=5, r=2$ in the direction\n",
    "\n",
    "$$\n",
    "\\bar{l}=0,6 e_t+0,8 e_v\n",
    "$$ [Eq. 1]\n",
    "\n",
    "at the point $t=0.6, u=2.1, v=0.5$. Provide an image of level surfaces\n",
    "\n",
    "$$\n",
    "v=h \\sin u \\cos n t+i \\Delta C\n",
    "$$ [Eq. 2]\n",
    "\n",
    "at $i=-1,0,1, \\Delta C=0,5$. Give the method of reading the intrinsic equation (12) of the level surface and show the influence of the values of the parameters on the shape of its surface.\n",
    "\n",
    "## Solution. "
   ]
  }
 ],
 "metadata": {
  "kernelspec": {
   "display_name": "Python 3 (ipykernel)",
   "language": "python",
   "name": "python3"
  },
  "language_info": {
   "codemirror_mode": {
    "name": "ipython",
    "version": 3
   },
   "file_extension": ".py",
   "mimetype": "text/x-python",
   "name": "python",
   "nbconvert_exporter": "python",
   "pygments_lexer": "ipython3",
   "version": "3.11.5"
  }
 },
 "nbformat": 4,
 "nbformat_minor": 5
}
